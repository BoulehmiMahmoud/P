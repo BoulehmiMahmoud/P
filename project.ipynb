{
 "cells": [
  {
   "cell_type": "code",
   "execution_count": 7,
   "id": "e15b7a9b",
   "metadata": {},
   "outputs": [
    {
     "name": "stdout",
     "output_type": "stream",
     "text": [
      "user namemah\n",
      "last namebou\n",
      "bou mah\n"
     ]
    }
   ],
   "source": [
    "N= input(\"user name\")\n",
    "P= input(\"last name\")\n",
    "print(P+\" \"+N)"
   ]
  },
  {
   "cell_type": "code",
   "execution_count": 3,
   "id": "cbd0a820",
   "metadata": {},
   "outputs": [
    {
     "name": "stdout",
     "output_type": "stream",
     "text": [
      "entrer un nombre5\n",
      "615\n"
     ]
    }
   ],
   "source": [
    "n=input(\"entrer un nombre\")\n",
    "n=int(n)\n",
    "a=n*11\n",
    "b=n*111\n",
    "c=n+a+b\n",
    "print(c)"
   ]
  },
  {
   "cell_type": "code",
   "execution_count": 8,
   "id": "78be873a",
   "metadata": {},
   "outputs": [
    {
     "name": "stdout",
     "output_type": "stream",
     "text": [
      "entrer un nombre9\n",
      "nmbr impr\n"
     ]
    }
   ],
   "source": [
    "n=input(\"entrer un nombre\")\n",
    "n=int(n)\n",
    "if n%2==0:\n",
    "    print(\"nmbr pr\")\n",
    "else:\n",
    "    print(\"nmbr impr\")\n"
   ]
  },
  {
   "cell_type": "code",
   "execution_count": 1,
   "id": "f7b858e0",
   "metadata": {},
   "outputs": [
    {
     "name": "stdout",
     "output_type": "stream",
     "text": [
      "0\n",
      "1\n",
      "2\n",
      "3\n",
      "4\n",
      "5\n"
     ]
    }
   ],
   "source": [
    "x = range(6)\n",
    "for n in x:\n",
    "    print(n)"
   ]
  },
  {
   "cell_type": "code",
   "execution_count": null,
   "id": "f9e17ac4",
   "metadata": {},
   "outputs": [],
   "source": [
    "x=input(\"select a number\")\n",
    "x=int(x)\n",
    "s=1\n",
    "n=range(x,1,-1)\n",
    "if x==0 :\n",
    "    s=1\n",
    "else : \n",
    "    for i in n: \n",
    "        s=s*i\n",
    "print(s)\n",
    "        "
   ]
  },
  {
   "cell_type": "code",
   "execution_count": 2,
   "id": "02c414e2",
   "metadata": {},
   "outputs": [
    {
     "ename": "IndentationError",
     "evalue": "unexpected indent (<ipython-input-2-f70cdd623a29>, line 2)",
     "output_type": "error",
     "traceback": [
      "\u001b[1;36m  File \u001b[1;32m\"<ipython-input-2-f70cdd623a29>\"\u001b[1;36m, line \u001b[1;32m2\u001b[0m\n\u001b[1;33m    for key in my_dictioanry.keys():     # Loop Through dictionary keys\u001b[0m\n\u001b[1;37m    ^\u001b[0m\n\u001b[1;31mIndentationError\u001b[0m\u001b[1;31m:\u001b[0m unexpected indent\n"
     ]
    }
   ],
   "source": [
    "my_dictionary =\t{\"knowledge\": \"Data Science\",\"tool\": \"python\",\"year\": 2020}\n",
    "    for key in my_dictioanry.keys():     # Loop Through dictionary keys\n",
    "        print(key)"
   ]
  },
  {
   "cell_type": "code",
   "execution_count": null,
   "id": "6a6b8042",
   "metadata": {},
   "outputs": [],
   "source": []
  }
 ],
 "metadata": {
  "kernelspec": {
   "display_name": "Python 3",
   "language": "python",
   "name": "python3"
  },
  "language_info": {
   "codemirror_mode": {
    "name": "ipython",
    "version": 3
   },
   "file_extension": ".py",
   "mimetype": "text/x-python",
   "name": "python",
   "nbconvert_exporter": "python",
   "pygments_lexer": "ipython3",
   "version": "3.8.8"
  }
 },
 "nbformat": 4,
 "nbformat_minor": 5
}
